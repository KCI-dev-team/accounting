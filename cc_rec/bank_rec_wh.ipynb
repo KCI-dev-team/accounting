{
 "cells": [
  {
   "cell_type": "code",
   "execution_count": 3,
   "metadata": {},
   "outputs": [],
   "source": [
    "import pandas as pd"
   ]
  },
  {
   "cell_type": "code",
   "execution_count": 44,
   "metadata": {},
   "outputs": [
    {
     "name": "stderr",
     "output_type": "stream",
     "text": [
      "/var/folders/bt/_wybkgqs2dqfg3t8p3_9yzvc0000gn/T/ipykernel_15980/2048599949.py:7: UserWarning: Could not infer format, so each element will be parsed individually, falling back to `dateutil`. To ensure parsing is consistent and as-expected, please specify a format.\n",
      "  audit['Date Effective'] = pd.to_datetime(audit['Date Effective'])\n",
      "/var/folders/bt/_wybkgqs2dqfg3t8p3_9yzvc0000gn/T/ipykernel_15980/2048599949.py:16: UserWarning: Could not infer format, so each element will be parsed individually, falling back to `dateutil`. To ensure parsing is consistent and as-expected, please specify a format.\n",
      "  bank_activity['Date'] = pd.to_datetime(bank_activity['Date'])\n"
     ]
    }
   ],
   "source": [
    "audit = pd.read_csv('audit.csv')\n",
    "bank_activity = pd.read_csv('bank_activity.csv')\n",
    "# Clean audit data\n",
    "audit = audit[['Code', 'Description', 'Date Effective', ' Amount ']]\n",
    "audit['Code'] = audit['Code'].astype(str)\n",
    "audit['Description'] = audit['Description'].astype(str)\n",
    "audit['Date Effective'] = pd.to_datetime(audit['Date Effective'])\n",
    "\n",
    "# Convert Amount to float, handling () for negatives\n",
    "audit['Amount'] = audit[' Amount '].str.replace('$', '', regex=False)\n",
    "audit['Amount'] = audit['Amount'].str.replace(',', '', regex=False)\n",
    "audit['Amount'] = audit['Amount'].apply(lambda x: -float(x.strip().strip('()')) if '(' in str(x) else float(x.strip()))\n",
    "audit = audit.drop(\" Amount \", axis=1)\n",
    "# Clean bank activity data\n",
    "bank_activity = bank_activity[['Date', ' Amount ', 'Transaction Detail']]\n",
    "bank_activity['Date'] = pd.to_datetime(bank_activity['Date'])\n",
    "bank_activity[\"Amount\"] = bank_activity[\" Amount \"].str.replace(\"$\", \"\", regex=False)\n",
    "bank_activity[\"Amount\"] = bank_activity[\"Amount\"].str.replace(\",\", \"\", regex=False)\n",
    "bank_activity[\"Amount\"] = bank_activity[\"Amount\"].apply(lambda x: -float(str(x).strip().strip(\"()\")) if \"(\" in str(x) else float(str(x).strip()))\n",
    "bank_activity = bank_activity.drop(\" Amount \", axis=1)\n",
    "# Create cc_provider column based on Transaction Detail\n",
    "def get_cc_provider(detail):\n",
    "    if 'SHIFT4' in str(detail) and 'PYMT' in str(detail):\n",
    "        return 'shift4'\n",
    "    elif 'AMERICAN EXPRESSSETTLEMENT' in str(detail):\n",
    "        return 'amex'\n",
    "    return None\n",
    "\n",
    "# Map credit card codes to shift4\n",
    "shift4_codes = ['visa', 'mc', 'svis', 'disc']\n",
    "audit.loc[audit['Code'].str.lower().isin(shift4_codes), 'Code'] = 'shift4'\n",
    "\n",
    "\n",
    "bank_activity['cc_provider'] = bank_activity['Transaction Detail'].apply(get_cc_provider)\n",
    "bank_activity = bank_activity.drop(\"Transaction Detail\", axis=1)"
   ]
  },
  {
   "cell_type": "code",
   "execution_count": 51,
   "metadata": {},
   "outputs": [],
   "source": [
    "# Group audit data by Code and Date\n",
    "audit_grouped = audit.groupby(['Code', 'Date Effective'])['Amount'].sum().reset_index()\n",
    "\n",
    "# Group bank activity by date and cc_provider \n",
    "bank_grouped = bank_activity.groupby(['Date', 'cc_provider'])['Amount'].sum().reset_index()\n",
    "# Join the dataframes on date, matching audit Date Effective with bank Date\n",
    "# Also match audit Code with bank cc_provider\n",
    "# Create empty list to store matches\n",
    "matches = []\n",
    "\n",
    "# For each audit record\n",
    "for _, audit_row in audit_grouped.iterrows():\n",
    "    code = audit_row['Code']\n",
    "    date_effective = audit_row['Date Effective'] \n",
    "    audit_amount = audit_row['Amount']\n",
    "    \n",
    "    # Find bank transactions after the audit date with matching code/provider\n",
    "    date_matches = bank_grouped['Date'] >= date_effective\n",
    "    code_matches = bank_grouped['cc_provider'] == code.lower()\n",
    "    amount_matches = abs(bank_grouped['Amount'].round(2) - round(audit_amount, 2)) < 0.01\n",
    "    \n",
    "    # Debug prints for matching conditions\n",
    "\n",
    "    \n",
    "    potential_matches = bank_grouped[date_matches & code_matches & amount_matches]\n",
    "    \n",
    "    \n",
    "    if not potential_matches.empty:\n",
    "        match = potential_matches.iloc[0]\n",
    "        matches.append({\n",
    "            'Audit_Date': date_effective,\n",
    "            'Bank_Date': match['Date'],\n",
    "            'Code': code,\n",
    "            'Amount': audit_amount,\n",
    "            'Days_to_Clear': (match['Date'] - date_effective).days\n",
    "        })\n",
    "\n",
    "# Convert matches to DataFrame\n",
    "matches_df = pd.DataFrame(matches)\n"
   ]
  },
  {
   "cell_type": "code",
   "execution_count": 52,
   "metadata": {},
   "outputs": [
    {
     "name": "stdout",
     "output_type": "stream",
     "text": [
      "   Audit_Date  Bank_Date    Code    Amount  Days_to_Clear\n",
      "0  2024-12-01 2024-12-03    amex   4305.94              2\n",
      "1  2024-12-03 2024-12-05    amex  11107.54              2\n",
      "2  2024-12-04 2024-12-06    amex  57545.91              2\n",
      "3  2024-12-10 2024-12-12    amex  10613.37              2\n",
      "4  2024-12-15 2024-12-17    amex  10114.18              2\n",
      "5  2024-12-22 2024-12-24    amex   4059.58              2\n",
      "6  2024-12-23 2024-12-26    amex   2039.08              3\n",
      "7  2024-12-29 2024-12-31    amex   2144.26              2\n",
      "8  2024-12-03 2024-12-05  shift4  22882.14              2\n",
      "9  2024-12-04 2024-12-06  shift4  29829.56              2\n",
      "10 2024-12-10 2024-12-12  shift4  10464.84              2\n",
      "11 2024-12-11 2024-12-13  shift4  32832.37              2\n",
      "12 2024-12-15 2024-12-17  shift4  29899.35              2\n"
     ]
    }
   ],
   "source": [
    "print(matches_df)"
   ]
  },
  {
   "cell_type": "code",
   "execution_count": 55,
   "metadata": {},
   "outputs": [
    {
     "name": "stdout",
     "output_type": "stream",
     "text": [
      "\n",
      "Audit and Bank Transactions (Bank Date = Audit Date + 2 days):\n",
      "   Audit_Date  Bank_Date    Code  Audit_Amount  Bank_Amount  variance\n",
      "0  2024-12-01 2024-12-03    amex       4305.94      4305.94      0.00\n",
      "1  2024-12-02 2024-12-04    amex       3979.17      2190.36   1788.81\n",
      "2  2024-12-03 2024-12-05    amex      11107.54     11107.54      0.00\n",
      "3  2024-12-04 2024-12-06    amex      57545.91     57545.91      0.00\n",
      "4  2024-12-07 2024-12-09    amex       3728.45     24329.48  20601.03\n",
      "5  2024-12-08 2024-12-10    amex      11508.48     15256.20   3747.72\n",
      "6  2024-12-09 2024-12-11    amex      16526.56     12778.84   3747.72\n",
      "7  2024-12-10 2024-12-12    amex      10613.37     10613.37      0.00\n",
      "8  2024-12-11 2024-12-13    amex       2206.51      2688.46    481.95\n",
      "9  2024-12-14 2024-12-16    amex       1027.12     15595.33  14568.21\n",
      "10 2024-12-15 2024-12-17    amex      10114.18     10114.18      0.00\n",
      "11 2024-12-16 2024-12-18    amex      16309.62     17134.02    824.40\n",
      "12 2024-12-17 2024-12-19    amex      77789.26     79813.59   2024.33\n",
      "13 2024-12-18 2024-12-20    amex       -102.29      1630.15   1732.44\n",
      "14 2024-12-21 2024-12-23    amex      16758.05     37794.71  21036.66\n",
      "15 2024-12-22 2024-12-24    amex       4059.58      4059.58      0.00\n",
      "16 2024-12-24 2024-12-26    amex       2386.18      2039.08    347.10\n",
      "17 2024-12-25 2024-12-27    amex       1249.38      3635.56   2386.18\n",
      "18 2024-12-28 2024-12-30    amex      -1920.73     13518.86  15439.59\n",
      "19 2024-12-29 2024-12-31    amex       2144.26      2144.26      0.00\n",
      "20 2024-12-01 2024-12-03  shift4      30442.41     31302.89    860.48\n",
      "21 2024-12-02 2024-12-04  shift4      26956.30     27884.63    928.33\n",
      "22 2024-12-03 2024-12-05  shift4      22882.14     22882.14      0.00\n",
      "23 2024-12-04 2024-12-06  shift4      29829.56     29829.56      0.00\n",
      "24 2024-12-07 2024-12-09  shift4      20181.87     64235.06  44053.19\n",
      "25 2024-12-08 2024-12-10  shift4      38394.30     43113.26   4718.96\n",
      "26 2024-12-09 2024-12-11  shift4      30731.51     26012.55   4718.96\n",
      "27 2024-12-10 2024-12-12  shift4      10464.84     10464.84      0.00\n",
      "28 2024-12-11 2024-12-13  shift4      32832.37     32832.37      0.00\n",
      "29 2024-12-14 2024-12-16  shift4        879.53     67632.42  66752.89\n",
      "30 2024-12-15 2024-12-17  shift4      29899.35     29899.35      0.00\n",
      "31 2024-12-16 2024-12-18  shift4      43665.88     44607.63    941.75\n",
      "32 2024-12-17 2024-12-19  shift4      15561.37     14619.62    941.75\n",
      "33 2024-12-18 2024-12-20  shift4      20350.06     23089.94   2739.88\n",
      "34 2024-12-21 2024-12-23  shift4      31869.17     84177.65  52308.48\n",
      "35 2024-12-22 2024-12-24  shift4       6862.91      9007.56   2144.65\n",
      "36 2024-12-24 2024-12-26  shift4      10176.66     32950.36  22773.70\n",
      "37 2024-12-25 2024-12-27  shift4      10936.19     21362.85  10426.66\n",
      "38 2024-12-28 2024-12-30  shift4      27804.00     72552.13  44748.13\n",
      "39 2024-12-29 2024-12-31  shift4      31802.33     30018.29   1784.04\n"
     ]
    }
   ],
   "source": [
    "# Create a new DataFrame with audit records and bank records 2 days later\n",
    "audit_bank_pairs = []\n",
    "\n",
    "for _, audit_row in audit_grouped.iterrows():\n",
    "    code = audit_row['Code']\n",
    "    audit_date = audit_row['Date Effective']\n",
    "    audit_amount = audit_row['Amount']\n",
    "    \n",
    "    # Look for bank transactions exactly 2 days after audit date\n",
    "    bank_matches = bank_grouped[\n",
    "        (bank_grouped['Date'] == audit_date + pd.Timedelta(days=2)) &\n",
    "        (bank_grouped['cc_provider'] == code.lower())\n",
    "    ]\n",
    "    \n",
    "    if not bank_matches.empty:\n",
    "        for _, bank_row in bank_matches.iterrows():\n",
    "            audit_bank_pairs.append({\n",
    "                'Audit_Date': audit_date,\n",
    "                'Bank_Date': bank_row['Date'],\n",
    "                'Code': code,\n",
    "                'Audit_Amount': float(audit_amount),\n",
    "                'Bank_Amount': float(bank_row['Amount']),\n",
    "                'variance': round(float(abs(audit_amount - bank_row['Amount'])), 2)\n",
    "            })\n",
    "\n",
    "pairs_df = pd.DataFrame(audit_bank_pairs)\n",
    "print(\"\\nAudit and Bank Transactions (Bank Date = Audit Date + 2 days):\")\n",
    "print(pairs_df)\n"
   ]
  },
  {
   "cell_type": "code",
   "execution_count": 48,
   "metadata": {},
   "outputs": [
    {
     "name": "stdout",
     "output_type": "stream",
     "text": [
      "      Code Date Effective    Amount\n",
      "0     amex     2024-12-01   4305.94\n",
      "1     amex     2024-12-02   3979.17\n",
      "2     amex     2024-12-03  11107.54\n",
      "3     amex     2024-12-04  57545.91\n",
      "4     amex     2024-12-05  17344.91\n",
      "..     ...            ...       ...\n",
      "64  shift4     2024-12-31  16701.13\n",
      "65    wire     2024-12-17   -250.00\n",
      "66    wire     2024-12-20    230.00\n",
      "67    zxfr     2024-12-07      0.00\n",
      "68    zxfr     2024-12-17      0.00\n",
      "\n",
      "[69 rows x 3 columns]\n"
     ]
    }
   ],
   "source": []
  },
  {
   "cell_type": "code",
   "execution_count": null,
   "metadata": {},
   "outputs": [],
   "source": []
  }
 ],
 "metadata": {
  "kernelspec": {
   "display_name": "venv",
   "language": "python",
   "name": "python3"
  },
  "language_info": {
   "codemirror_mode": {
    "name": "ipython",
    "version": 3
   },
   "file_extension": ".py",
   "mimetype": "text/x-python",
   "name": "python",
   "nbconvert_exporter": "python",
   "pygments_lexer": "ipython3",
   "version": "3.13.0"
  }
 },
 "nbformat": 4,
 "nbformat_minor": 2
}
